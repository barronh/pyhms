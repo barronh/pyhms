{
  "cells": [
    {
      "cell_type": "markdown",
      "metadata": {},
      "source": [
        "\n# HMS Smoke Plot\n\nThis example shows how to create a plot from one day of HMS smoke.\n"
      ]
    },
    {
      "cell_type": "markdown",
      "metadata": {},
      "source": [
        "## Prepare a base api object\n\n"
      ]
    },
    {
      "cell_type": "code",
      "execution_count": null,
      "metadata": {
        "collapsed": false
      },
      "outputs": [],
      "source": [
        "# !python -m pip install git+https://github.com/barronh/pyhms.git\nimport pyhms\n\nhms = pyhms.hmsapi()"
      ]
    },
    {
      "cell_type": "markdown",
      "metadata": {},
      "source": [
        "## Define the date or dates\n\n"
      ]
    },
    {
      "cell_type": "code",
      "execution_count": null,
      "metadata": {
        "collapsed": false
      },
      "outputs": [],
      "source": [
        "date = '2023-06-14'\n# date = pd.date_range('2023-07-01', '2023-07-31')"
      ]
    },
    {
      "cell_type": "markdown",
      "metadata": {},
      "source": [
        "## Open one or many dates\n\n* Implicitly calls download for date(s)\n* Then opens and concatenates\n\n"
      ]
    },
    {
      "cell_type": "code",
      "execution_count": null,
      "metadata": {
        "collapsed": false
      },
      "outputs": [],
      "source": [
        "hmsf = hms.open(date)"
      ]
    },
    {
      "cell_type": "markdown",
      "metadata": {},
      "source": [
        "## Create a plot with semi-transparent polgons\n\n* alpha controls transparency and is an example of adding keywords to the\n  plotting script that controls the polygons patches.\n* Note that with many dates, the plot is very busy.\n* By default, states are downloaded from the Census website and added to\n  the plot. To distable, add keyword statepath=None.\n\n"
      ]
    },
    {
      "cell_type": "code",
      "execution_count": null,
      "metadata": {
        "collapsed": false
      },
      "outputs": [],
      "source": [
        "ax = pyhms.plot_smoke(hmsf, alpha=0.5)\nax.figure.savefig('HMS_smoke.png')"
      ]
    }
  ],
  "metadata": {
    "kernelspec": {
      "display_name": "Python 3",
      "language": "python",
      "name": "python3"
    },
    "language_info": {
      "codemirror_mode": {
        "name": "ipython",
        "version": 3
      },
      "file_extension": ".py",
      "mimetype": "text/x-python",
      "name": "python",
      "nbconvert_exporter": "python",
      "pygments_lexer": "ipython3",
      "version": "3.12.3"
    }
  },
  "nbformat": 4,
  "nbformat_minor": 0
}